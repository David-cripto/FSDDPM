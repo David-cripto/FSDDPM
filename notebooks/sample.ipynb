{
  "nbformat": 4,
  "nbformat_minor": 0,
  "metadata": {
    "colab": {
      "provenance": [],
      "gpuType": "T4"
    },
    "kernelspec": {
      "name": "python3",
      "display_name": "Python 3"
    },
    "language_info": {
      "name": "python"
    },
    "widgets": {
      "application/vnd.jupyter.widget-state+json": {
        "1acbb22d95c842c59d0b19b7883582b0": {
          "model_module": "@jupyter-widgets/controls",
          "model_name": "HBoxModel",
          "model_module_version": "1.5.0",
          "state": {
            "_dom_classes": [],
            "_model_module": "@jupyter-widgets/controls",
            "_model_module_version": "1.5.0",
            "_model_name": "HBoxModel",
            "_view_count": null,
            "_view_module": "@jupyter-widgets/controls",
            "_view_module_version": "1.5.0",
            "_view_name": "HBoxView",
            "box_style": "",
            "children": [
              "IPY_MODEL_bb8f8512df5f4bbb8277a7de63c75eba",
              "IPY_MODEL_35896e7e046543e398c288d1a59d565b",
              "IPY_MODEL_e8caee142e7b403f831bb7cd9067e8ab"
            ],
            "layout": "IPY_MODEL_134c46fd7d8d461891f900c267f5520d"
          }
        },
        "bb8f8512df5f4bbb8277a7de63c75eba": {
          "model_module": "@jupyter-widgets/controls",
          "model_name": "HTMLModel",
          "model_module_version": "1.5.0",
          "state": {
            "_dom_classes": [],
            "_model_module": "@jupyter-widgets/controls",
            "_model_module_version": "1.5.0",
            "_model_name": "HTMLModel",
            "_view_count": null,
            "_view_module": "@jupyter-widgets/controls",
            "_view_module_version": "1.5.0",
            "_view_name": "HTMLView",
            "description": "",
            "description_tooltip": null,
            "layout": "IPY_MODEL_551811d78d5d492eba3dce9c3ee3fa1d",
            "placeholder": "​",
            "style": "IPY_MODEL_2f06e2c927864b91bc4b332c39f9d476",
            "value": ""
          }
        },
        "35896e7e046543e398c288d1a59d565b": {
          "model_module": "@jupyter-widgets/controls",
          "model_name": "FloatProgressModel",
          "model_module_version": "1.5.0",
          "state": {
            "_dom_classes": [],
            "_model_module": "@jupyter-widgets/controls",
            "_model_module_version": "1.5.0",
            "_model_name": "FloatProgressModel",
            "_view_count": null,
            "_view_module": "@jupyter-widgets/controls",
            "_view_module_version": "1.5.0",
            "_view_name": "ProgressView",
            "bar_style": "success",
            "description": "",
            "description_tooltip": null,
            "layout": "IPY_MODEL_4babb63ad9444215aa4a59eb0dfe6689",
            "max": 1,
            "min": 0,
            "orientation": "horizontal",
            "style": "IPY_MODEL_d63bbe65f9b6466d9c87f03887daf5ef",
            "value": 0
          }
        },
        "e8caee142e7b403f831bb7cd9067e8ab": {
          "model_module": "@jupyter-widgets/controls",
          "model_name": "HTMLModel",
          "model_module_version": "1.5.0",
          "state": {
            "_dom_classes": [],
            "_model_module": "@jupyter-widgets/controls",
            "_model_module_version": "1.5.0",
            "_model_name": "HTMLModel",
            "_view_count": null,
            "_view_module": "@jupyter-widgets/controls",
            "_view_module_version": "1.5.0",
            "_view_name": "HTMLView",
            "description": "",
            "description_tooltip": null,
            "layout": "IPY_MODEL_e920dd3470b54ddb9805836a3d3adc52",
            "placeholder": "​",
            "style": "IPY_MODEL_cc6e6cf409b84f8a96af061bd3d7d9a9",
            "value": " 0/0 [00:00&lt;?, ?it/s]"
          }
        },
        "134c46fd7d8d461891f900c267f5520d": {
          "model_module": "@jupyter-widgets/base",
          "model_name": "LayoutModel",
          "model_module_version": "1.2.0",
          "state": {
            "_model_module": "@jupyter-widgets/base",
            "_model_module_version": "1.2.0",
            "_model_name": "LayoutModel",
            "_view_count": null,
            "_view_module": "@jupyter-widgets/base",
            "_view_module_version": "1.2.0",
            "_view_name": "LayoutView",
            "align_content": null,
            "align_items": null,
            "align_self": null,
            "border": null,
            "bottom": null,
            "display": null,
            "flex": null,
            "flex_flow": null,
            "grid_area": null,
            "grid_auto_columns": null,
            "grid_auto_flow": null,
            "grid_auto_rows": null,
            "grid_column": null,
            "grid_gap": null,
            "grid_row": null,
            "grid_template_areas": null,
            "grid_template_columns": null,
            "grid_template_rows": null,
            "height": null,
            "justify_content": null,
            "justify_items": null,
            "left": null,
            "margin": null,
            "max_height": null,
            "max_width": null,
            "min_height": null,
            "min_width": null,
            "object_fit": null,
            "object_position": null,
            "order": null,
            "overflow": null,
            "overflow_x": null,
            "overflow_y": null,
            "padding": null,
            "right": null,
            "top": null,
            "visibility": null,
            "width": null
          }
        },
        "551811d78d5d492eba3dce9c3ee3fa1d": {
          "model_module": "@jupyter-widgets/base",
          "model_name": "LayoutModel",
          "model_module_version": "1.2.0",
          "state": {
            "_model_module": "@jupyter-widgets/base",
            "_model_module_version": "1.2.0",
            "_model_name": "LayoutModel",
            "_view_count": null,
            "_view_module": "@jupyter-widgets/base",
            "_view_module_version": "1.2.0",
            "_view_name": "LayoutView",
            "align_content": null,
            "align_items": null,
            "align_self": null,
            "border": null,
            "bottom": null,
            "display": null,
            "flex": null,
            "flex_flow": null,
            "grid_area": null,
            "grid_auto_columns": null,
            "grid_auto_flow": null,
            "grid_auto_rows": null,
            "grid_column": null,
            "grid_gap": null,
            "grid_row": null,
            "grid_template_areas": null,
            "grid_template_columns": null,
            "grid_template_rows": null,
            "height": null,
            "justify_content": null,
            "justify_items": null,
            "left": null,
            "margin": null,
            "max_height": null,
            "max_width": null,
            "min_height": null,
            "min_width": null,
            "object_fit": null,
            "object_position": null,
            "order": null,
            "overflow": null,
            "overflow_x": null,
            "overflow_y": null,
            "padding": null,
            "right": null,
            "top": null,
            "visibility": null,
            "width": null
          }
        },
        "2f06e2c927864b91bc4b332c39f9d476": {
          "model_module": "@jupyter-widgets/controls",
          "model_name": "DescriptionStyleModel",
          "model_module_version": "1.5.0",
          "state": {
            "_model_module": "@jupyter-widgets/controls",
            "_model_module_version": "1.5.0",
            "_model_name": "DescriptionStyleModel",
            "_view_count": null,
            "_view_module": "@jupyter-widgets/base",
            "_view_module_version": "1.2.0",
            "_view_name": "StyleView",
            "description_width": ""
          }
        },
        "4babb63ad9444215aa4a59eb0dfe6689": {
          "model_module": "@jupyter-widgets/base",
          "model_name": "LayoutModel",
          "model_module_version": "1.2.0",
          "state": {
            "_model_module": "@jupyter-widgets/base",
            "_model_module_version": "1.2.0",
            "_model_name": "LayoutModel",
            "_view_count": null,
            "_view_module": "@jupyter-widgets/base",
            "_view_module_version": "1.2.0",
            "_view_name": "LayoutView",
            "align_content": null,
            "align_items": null,
            "align_self": null,
            "border": null,
            "bottom": null,
            "display": null,
            "flex": null,
            "flex_flow": null,
            "grid_area": null,
            "grid_auto_columns": null,
            "grid_auto_flow": null,
            "grid_auto_rows": null,
            "grid_column": null,
            "grid_gap": null,
            "grid_row": null,
            "grid_template_areas": null,
            "grid_template_columns": null,
            "grid_template_rows": null,
            "height": null,
            "justify_content": null,
            "justify_items": null,
            "left": null,
            "margin": null,
            "max_height": null,
            "max_width": null,
            "min_height": null,
            "min_width": null,
            "object_fit": null,
            "object_position": null,
            "order": null,
            "overflow": null,
            "overflow_x": null,
            "overflow_y": null,
            "padding": null,
            "right": null,
            "top": null,
            "visibility": null,
            "width": "20px"
          }
        },
        "d63bbe65f9b6466d9c87f03887daf5ef": {
          "model_module": "@jupyter-widgets/controls",
          "model_name": "ProgressStyleModel",
          "model_module_version": "1.5.0",
          "state": {
            "_model_module": "@jupyter-widgets/controls",
            "_model_module_version": "1.5.0",
            "_model_name": "ProgressStyleModel",
            "_view_count": null,
            "_view_module": "@jupyter-widgets/base",
            "_view_module_version": "1.2.0",
            "_view_name": "StyleView",
            "bar_color": null,
            "description_width": ""
          }
        },
        "e920dd3470b54ddb9805836a3d3adc52": {
          "model_module": "@jupyter-widgets/base",
          "model_name": "LayoutModel",
          "model_module_version": "1.2.0",
          "state": {
            "_model_module": "@jupyter-widgets/base",
            "_model_module_version": "1.2.0",
            "_model_name": "LayoutModel",
            "_view_count": null,
            "_view_module": "@jupyter-widgets/base",
            "_view_module_version": "1.2.0",
            "_view_name": "LayoutView",
            "align_content": null,
            "align_items": null,
            "align_self": null,
            "border": null,
            "bottom": null,
            "display": null,
            "flex": null,
            "flex_flow": null,
            "grid_area": null,
            "grid_auto_columns": null,
            "grid_auto_flow": null,
            "grid_auto_rows": null,
            "grid_column": null,
            "grid_gap": null,
            "grid_row": null,
            "grid_template_areas": null,
            "grid_template_columns": null,
            "grid_template_rows": null,
            "height": null,
            "justify_content": null,
            "justify_items": null,
            "left": null,
            "margin": null,
            "max_height": null,
            "max_width": null,
            "min_height": null,
            "min_width": null,
            "object_fit": null,
            "object_position": null,
            "order": null,
            "overflow": null,
            "overflow_x": null,
            "overflow_y": null,
            "padding": null,
            "right": null,
            "top": null,
            "visibility": null,
            "width": null
          }
        },
        "cc6e6cf409b84f8a96af061bd3d7d9a9": {
          "model_module": "@jupyter-widgets/controls",
          "model_name": "DescriptionStyleModel",
          "model_module_version": "1.5.0",
          "state": {
            "_model_module": "@jupyter-widgets/controls",
            "_model_module_version": "1.5.0",
            "_model_name": "DescriptionStyleModel",
            "_view_count": null,
            "_view_module": "@jupyter-widgets/base",
            "_view_module_version": "1.2.0",
            "_view_name": "StyleView",
            "description_width": ""
          }
        },
        "67408d6b1eef46699da4bf1566a1e08c": {
          "model_module": "@jupyter-widgets/controls",
          "model_name": "HBoxModel",
          "model_module_version": "1.5.0",
          "state": {
            "_dom_classes": [],
            "_model_module": "@jupyter-widgets/controls",
            "_model_module_version": "1.5.0",
            "_model_name": "HBoxModel",
            "_view_count": null,
            "_view_module": "@jupyter-widgets/controls",
            "_view_module_version": "1.5.0",
            "_view_name": "HBoxView",
            "box_style": "",
            "children": [
              "IPY_MODEL_de63265568d44d42a181da683fcb0664",
              "IPY_MODEL_cd00a4a1559644b699ddb8624c8d88bd",
              "IPY_MODEL_09a9b7eeb5ce4862bc59e8a373873ed6"
            ],
            "layout": "IPY_MODEL_66888ab1467f4c28b844912d26c392ad"
          }
        },
        "de63265568d44d42a181da683fcb0664": {
          "model_module": "@jupyter-widgets/controls",
          "model_name": "HTMLModel",
          "model_module_version": "1.5.0",
          "state": {
            "_dom_classes": [],
            "_model_module": "@jupyter-widgets/controls",
            "_model_module_version": "1.5.0",
            "_model_name": "HTMLModel",
            "_view_count": null,
            "_view_module": "@jupyter-widgets/controls",
            "_view_module_version": "1.5.0",
            "_view_name": "HTMLView",
            "description": "",
            "description_tooltip": null,
            "layout": "IPY_MODEL_5f26a9014b4e48ca8d089b3e517ae393",
            "placeholder": "​",
            "style": "IPY_MODEL_8718a07b585e44b09b0df5f162a55f62",
            "value": ""
          }
        },
        "cd00a4a1559644b699ddb8624c8d88bd": {
          "model_module": "@jupyter-widgets/controls",
          "model_name": "FloatProgressModel",
          "model_module_version": "1.5.0",
          "state": {
            "_dom_classes": [],
            "_model_module": "@jupyter-widgets/controls",
            "_model_module_version": "1.5.0",
            "_model_name": "FloatProgressModel",
            "_view_count": null,
            "_view_module": "@jupyter-widgets/controls",
            "_view_module_version": "1.5.0",
            "_view_name": "ProgressView",
            "bar_style": "success",
            "description": "",
            "description_tooltip": null,
            "layout": "IPY_MODEL_925d304b069b439b85c7af4c3f46f20e",
            "max": 1,
            "min": 0,
            "orientation": "horizontal",
            "style": "IPY_MODEL_31da19aec33f47e6b81853c8ae252c0e",
            "value": 1
          }
        },
        "09a9b7eeb5ce4862bc59e8a373873ed6": {
          "model_module": "@jupyter-widgets/controls",
          "model_name": "HTMLModel",
          "model_module_version": "1.5.0",
          "state": {
            "_dom_classes": [],
            "_model_module": "@jupyter-widgets/controls",
            "_model_module_version": "1.5.0",
            "_model_name": "HTMLModel",
            "_view_count": null,
            "_view_module": "@jupyter-widgets/controls",
            "_view_module_version": "1.5.0",
            "_view_name": "HTMLView",
            "description": "",
            "description_tooltip": null,
            "layout": "IPY_MODEL_93f89d34cdb249c1b9a400b14ac423e7",
            "placeholder": "​",
            "style": "IPY_MODEL_45961d0b8a3d4c6e851e221f5eb5d62b",
            "value": " 1000/? [00:05&lt;00:00, 159.60it/s]"
          }
        },
        "66888ab1467f4c28b844912d26c392ad": {
          "model_module": "@jupyter-widgets/base",
          "model_name": "LayoutModel",
          "model_module_version": "1.2.0",
          "state": {
            "_model_module": "@jupyter-widgets/base",
            "_model_module_version": "1.2.0",
            "_model_name": "LayoutModel",
            "_view_count": null,
            "_view_module": "@jupyter-widgets/base",
            "_view_module_version": "1.2.0",
            "_view_name": "LayoutView",
            "align_content": null,
            "align_items": null,
            "align_self": null,
            "border": null,
            "bottom": null,
            "display": null,
            "flex": null,
            "flex_flow": null,
            "grid_area": null,
            "grid_auto_columns": null,
            "grid_auto_flow": null,
            "grid_auto_rows": null,
            "grid_column": null,
            "grid_gap": null,
            "grid_row": null,
            "grid_template_areas": null,
            "grid_template_columns": null,
            "grid_template_rows": null,
            "height": null,
            "justify_content": null,
            "justify_items": null,
            "left": null,
            "margin": null,
            "max_height": null,
            "max_width": null,
            "min_height": null,
            "min_width": null,
            "object_fit": null,
            "object_position": null,
            "order": null,
            "overflow": null,
            "overflow_x": null,
            "overflow_y": null,
            "padding": null,
            "right": null,
            "top": null,
            "visibility": null,
            "width": null
          }
        },
        "5f26a9014b4e48ca8d089b3e517ae393": {
          "model_module": "@jupyter-widgets/base",
          "model_name": "LayoutModel",
          "model_module_version": "1.2.0",
          "state": {
            "_model_module": "@jupyter-widgets/base",
            "_model_module_version": "1.2.0",
            "_model_name": "LayoutModel",
            "_view_count": null,
            "_view_module": "@jupyter-widgets/base",
            "_view_module_version": "1.2.0",
            "_view_name": "LayoutView",
            "align_content": null,
            "align_items": null,
            "align_self": null,
            "border": null,
            "bottom": null,
            "display": null,
            "flex": null,
            "flex_flow": null,
            "grid_area": null,
            "grid_auto_columns": null,
            "grid_auto_flow": null,
            "grid_auto_rows": null,
            "grid_column": null,
            "grid_gap": null,
            "grid_row": null,
            "grid_template_areas": null,
            "grid_template_columns": null,
            "grid_template_rows": null,
            "height": null,
            "justify_content": null,
            "justify_items": null,
            "left": null,
            "margin": null,
            "max_height": null,
            "max_width": null,
            "min_height": null,
            "min_width": null,
            "object_fit": null,
            "object_position": null,
            "order": null,
            "overflow": null,
            "overflow_x": null,
            "overflow_y": null,
            "padding": null,
            "right": null,
            "top": null,
            "visibility": null,
            "width": null
          }
        },
        "8718a07b585e44b09b0df5f162a55f62": {
          "model_module": "@jupyter-widgets/controls",
          "model_name": "DescriptionStyleModel",
          "model_module_version": "1.5.0",
          "state": {
            "_model_module": "@jupyter-widgets/controls",
            "_model_module_version": "1.5.0",
            "_model_name": "DescriptionStyleModel",
            "_view_count": null,
            "_view_module": "@jupyter-widgets/base",
            "_view_module_version": "1.2.0",
            "_view_name": "StyleView",
            "description_width": ""
          }
        },
        "925d304b069b439b85c7af4c3f46f20e": {
          "model_module": "@jupyter-widgets/base",
          "model_name": "LayoutModel",
          "model_module_version": "1.2.0",
          "state": {
            "_model_module": "@jupyter-widgets/base",
            "_model_module_version": "1.2.0",
            "_model_name": "LayoutModel",
            "_view_count": null,
            "_view_module": "@jupyter-widgets/base",
            "_view_module_version": "1.2.0",
            "_view_name": "LayoutView",
            "align_content": null,
            "align_items": null,
            "align_self": null,
            "border": null,
            "bottom": null,
            "display": null,
            "flex": null,
            "flex_flow": null,
            "grid_area": null,
            "grid_auto_columns": null,
            "grid_auto_flow": null,
            "grid_auto_rows": null,
            "grid_column": null,
            "grid_gap": null,
            "grid_row": null,
            "grid_template_areas": null,
            "grid_template_columns": null,
            "grid_template_rows": null,
            "height": null,
            "justify_content": null,
            "justify_items": null,
            "left": null,
            "margin": null,
            "max_height": null,
            "max_width": null,
            "min_height": null,
            "min_width": null,
            "object_fit": null,
            "object_position": null,
            "order": null,
            "overflow": null,
            "overflow_x": null,
            "overflow_y": null,
            "padding": null,
            "right": null,
            "top": null,
            "visibility": null,
            "width": "20px"
          }
        },
        "31da19aec33f47e6b81853c8ae252c0e": {
          "model_module": "@jupyter-widgets/controls",
          "model_name": "ProgressStyleModel",
          "model_module_version": "1.5.0",
          "state": {
            "_model_module": "@jupyter-widgets/controls",
            "_model_module_version": "1.5.0",
            "_model_name": "ProgressStyleModel",
            "_view_count": null,
            "_view_module": "@jupyter-widgets/base",
            "_view_module_version": "1.2.0",
            "_view_name": "StyleView",
            "bar_color": null,
            "description_width": ""
          }
        },
        "93f89d34cdb249c1b9a400b14ac423e7": {
          "model_module": "@jupyter-widgets/base",
          "model_name": "LayoutModel",
          "model_module_version": "1.2.0",
          "state": {
            "_model_module": "@jupyter-widgets/base",
            "_model_module_version": "1.2.0",
            "_model_name": "LayoutModel",
            "_view_count": null,
            "_view_module": "@jupyter-widgets/base",
            "_view_module_version": "1.2.0",
            "_view_name": "LayoutView",
            "align_content": null,
            "align_items": null,
            "align_self": null,
            "border": null,
            "bottom": null,
            "display": null,
            "flex": null,
            "flex_flow": null,
            "grid_area": null,
            "grid_auto_columns": null,
            "grid_auto_flow": null,
            "grid_auto_rows": null,
            "grid_column": null,
            "grid_gap": null,
            "grid_row": null,
            "grid_template_areas": null,
            "grid_template_columns": null,
            "grid_template_rows": null,
            "height": null,
            "justify_content": null,
            "justify_items": null,
            "left": null,
            "margin": null,
            "max_height": null,
            "max_width": null,
            "min_height": null,
            "min_width": null,
            "object_fit": null,
            "object_position": null,
            "order": null,
            "overflow": null,
            "overflow_x": null,
            "overflow_y": null,
            "padding": null,
            "right": null,
            "top": null,
            "visibility": null,
            "width": null
          }
        },
        "45961d0b8a3d4c6e851e221f5eb5d62b": {
          "model_module": "@jupyter-widgets/controls",
          "model_name": "DescriptionStyleModel",
          "model_module_version": "1.5.0",
          "state": {
            "_model_module": "@jupyter-widgets/controls",
            "_model_module_version": "1.5.0",
            "_model_name": "DescriptionStyleModel",
            "_view_count": null,
            "_view_module": "@jupyter-widgets/base",
            "_view_module_version": "1.2.0",
            "_view_name": "StyleView",
            "description_width": ""
          }
        },
        "eb77c32d0970412c89fc9b5599674229": {
          "model_module": "@jupyter-widgets/controls",
          "model_name": "HBoxModel",
          "model_module_version": "1.5.0",
          "state": {
            "_dom_classes": [],
            "_model_module": "@jupyter-widgets/controls",
            "_model_module_version": "1.5.0",
            "_model_name": "HBoxModel",
            "_view_count": null,
            "_view_module": "@jupyter-widgets/controls",
            "_view_module_version": "1.5.0",
            "_view_name": "HBoxView",
            "box_style": "",
            "children": [
              "IPY_MODEL_b14b90e4503a4daeb742ecf46336f8ae",
              "IPY_MODEL_a67dff0cf2f648648a53a05a1483409d",
              "IPY_MODEL_d4f2d46ddb1b45efa5bcc5e959f53cbb"
            ],
            "layout": "IPY_MODEL_b175ac198c244ea79563353cb1299288"
          }
        },
        "b14b90e4503a4daeb742ecf46336f8ae": {
          "model_module": "@jupyter-widgets/controls",
          "model_name": "HTMLModel",
          "model_module_version": "1.5.0",
          "state": {
            "_dom_classes": [],
            "_model_module": "@jupyter-widgets/controls",
            "_model_module_version": "1.5.0",
            "_model_name": "HTMLModel",
            "_view_count": null,
            "_view_module": "@jupyter-widgets/controls",
            "_view_module_version": "1.5.0",
            "_view_name": "HTMLView",
            "description": "",
            "description_tooltip": null,
            "layout": "IPY_MODEL_9e043b1a68d84c23b12d8c8d33cbd43e",
            "placeholder": "​",
            "style": "IPY_MODEL_d1588a70819f44849444acb22a59575e",
            "value": ""
          }
        },
        "a67dff0cf2f648648a53a05a1483409d": {
          "model_module": "@jupyter-widgets/controls",
          "model_name": "FloatProgressModel",
          "model_module_version": "1.5.0",
          "state": {
            "_dom_classes": [],
            "_model_module": "@jupyter-widgets/controls",
            "_model_module_version": "1.5.0",
            "_model_name": "FloatProgressModel",
            "_view_count": null,
            "_view_module": "@jupyter-widgets/controls",
            "_view_module_version": "1.5.0",
            "_view_name": "ProgressView",
            "bar_style": "success",
            "description": "",
            "description_tooltip": null,
            "layout": "IPY_MODEL_eab4dcf93819464fa91f0ccb43b45d14",
            "max": 1,
            "min": 0,
            "orientation": "horizontal",
            "style": "IPY_MODEL_cce37a49d17d49639fd7ece100387ff3",
            "value": 1
          }
        },
        "d4f2d46ddb1b45efa5bcc5e959f53cbb": {
          "model_module": "@jupyter-widgets/controls",
          "model_name": "HTMLModel",
          "model_module_version": "1.5.0",
          "state": {
            "_dom_classes": [],
            "_model_module": "@jupyter-widgets/controls",
            "_model_module_version": "1.5.0",
            "_model_name": "HTMLModel",
            "_view_count": null,
            "_view_module": "@jupyter-widgets/controls",
            "_view_module_version": "1.5.0",
            "_view_name": "HTMLView",
            "description": "",
            "description_tooltip": null,
            "layout": "IPY_MODEL_5510e37089734ce8af9cd9bec122dd8a",
            "placeholder": "​",
            "style": "IPY_MODEL_bd8bb0f2c77344b6be6231813c0ef030",
            "value": " 1000/? [00:05&lt;00:00, 161.27it/s]"
          }
        },
        "b175ac198c244ea79563353cb1299288": {
          "model_module": "@jupyter-widgets/base",
          "model_name": "LayoutModel",
          "model_module_version": "1.2.0",
          "state": {
            "_model_module": "@jupyter-widgets/base",
            "_model_module_version": "1.2.0",
            "_model_name": "LayoutModel",
            "_view_count": null,
            "_view_module": "@jupyter-widgets/base",
            "_view_module_version": "1.2.0",
            "_view_name": "LayoutView",
            "align_content": null,
            "align_items": null,
            "align_self": null,
            "border": null,
            "bottom": null,
            "display": null,
            "flex": null,
            "flex_flow": null,
            "grid_area": null,
            "grid_auto_columns": null,
            "grid_auto_flow": null,
            "grid_auto_rows": null,
            "grid_column": null,
            "grid_gap": null,
            "grid_row": null,
            "grid_template_areas": null,
            "grid_template_columns": null,
            "grid_template_rows": null,
            "height": null,
            "justify_content": null,
            "justify_items": null,
            "left": null,
            "margin": null,
            "max_height": null,
            "max_width": null,
            "min_height": null,
            "min_width": null,
            "object_fit": null,
            "object_position": null,
            "order": null,
            "overflow": null,
            "overflow_x": null,
            "overflow_y": null,
            "padding": null,
            "right": null,
            "top": null,
            "visibility": null,
            "width": null
          }
        },
        "9e043b1a68d84c23b12d8c8d33cbd43e": {
          "model_module": "@jupyter-widgets/base",
          "model_name": "LayoutModel",
          "model_module_version": "1.2.0",
          "state": {
            "_model_module": "@jupyter-widgets/base",
            "_model_module_version": "1.2.0",
            "_model_name": "LayoutModel",
            "_view_count": null,
            "_view_module": "@jupyter-widgets/base",
            "_view_module_version": "1.2.0",
            "_view_name": "LayoutView",
            "align_content": null,
            "align_items": null,
            "align_self": null,
            "border": null,
            "bottom": null,
            "display": null,
            "flex": null,
            "flex_flow": null,
            "grid_area": null,
            "grid_auto_columns": null,
            "grid_auto_flow": null,
            "grid_auto_rows": null,
            "grid_column": null,
            "grid_gap": null,
            "grid_row": null,
            "grid_template_areas": null,
            "grid_template_columns": null,
            "grid_template_rows": null,
            "height": null,
            "justify_content": null,
            "justify_items": null,
            "left": null,
            "margin": null,
            "max_height": null,
            "max_width": null,
            "min_height": null,
            "min_width": null,
            "object_fit": null,
            "object_position": null,
            "order": null,
            "overflow": null,
            "overflow_x": null,
            "overflow_y": null,
            "padding": null,
            "right": null,
            "top": null,
            "visibility": null,
            "width": null
          }
        },
        "d1588a70819f44849444acb22a59575e": {
          "model_module": "@jupyter-widgets/controls",
          "model_name": "DescriptionStyleModel",
          "model_module_version": "1.5.0",
          "state": {
            "_model_module": "@jupyter-widgets/controls",
            "_model_module_version": "1.5.0",
            "_model_name": "DescriptionStyleModel",
            "_view_count": null,
            "_view_module": "@jupyter-widgets/base",
            "_view_module_version": "1.2.0",
            "_view_name": "StyleView",
            "description_width": ""
          }
        },
        "eab4dcf93819464fa91f0ccb43b45d14": {
          "model_module": "@jupyter-widgets/base",
          "model_name": "LayoutModel",
          "model_module_version": "1.2.0",
          "state": {
            "_model_module": "@jupyter-widgets/base",
            "_model_module_version": "1.2.0",
            "_model_name": "LayoutModel",
            "_view_count": null,
            "_view_module": "@jupyter-widgets/base",
            "_view_module_version": "1.2.0",
            "_view_name": "LayoutView",
            "align_content": null,
            "align_items": null,
            "align_self": null,
            "border": null,
            "bottom": null,
            "display": null,
            "flex": null,
            "flex_flow": null,
            "grid_area": null,
            "grid_auto_columns": null,
            "grid_auto_flow": null,
            "grid_auto_rows": null,
            "grid_column": null,
            "grid_gap": null,
            "grid_row": null,
            "grid_template_areas": null,
            "grid_template_columns": null,
            "grid_template_rows": null,
            "height": null,
            "justify_content": null,
            "justify_items": null,
            "left": null,
            "margin": null,
            "max_height": null,
            "max_width": null,
            "min_height": null,
            "min_width": null,
            "object_fit": null,
            "object_position": null,
            "order": null,
            "overflow": null,
            "overflow_x": null,
            "overflow_y": null,
            "padding": null,
            "right": null,
            "top": null,
            "visibility": null,
            "width": "20px"
          }
        },
        "cce37a49d17d49639fd7ece100387ff3": {
          "model_module": "@jupyter-widgets/controls",
          "model_name": "ProgressStyleModel",
          "model_module_version": "1.5.0",
          "state": {
            "_model_module": "@jupyter-widgets/controls",
            "_model_module_version": "1.5.0",
            "_model_name": "ProgressStyleModel",
            "_view_count": null,
            "_view_module": "@jupyter-widgets/base",
            "_view_module_version": "1.2.0",
            "_view_name": "StyleView",
            "bar_color": null,
            "description_width": ""
          }
        },
        "5510e37089734ce8af9cd9bec122dd8a": {
          "model_module": "@jupyter-widgets/base",
          "model_name": "LayoutModel",
          "model_module_version": "1.2.0",
          "state": {
            "_model_module": "@jupyter-widgets/base",
            "_model_module_version": "1.2.0",
            "_model_name": "LayoutModel",
            "_view_count": null,
            "_view_module": "@jupyter-widgets/base",
            "_view_module_version": "1.2.0",
            "_view_name": "LayoutView",
            "align_content": null,
            "align_items": null,
            "align_self": null,
            "border": null,
            "bottom": null,
            "display": null,
            "flex": null,
            "flex_flow": null,
            "grid_area": null,
            "grid_auto_columns": null,
            "grid_auto_flow": null,
            "grid_auto_rows": null,
            "grid_column": null,
            "grid_gap": null,
            "grid_row": null,
            "grid_template_areas": null,
            "grid_template_columns": null,
            "grid_template_rows": null,
            "height": null,
            "justify_content": null,
            "justify_items": null,
            "left": null,
            "margin": null,
            "max_height": null,
            "max_width": null,
            "min_height": null,
            "min_width": null,
            "object_fit": null,
            "object_position": null,
            "order": null,
            "overflow": null,
            "overflow_x": null,
            "overflow_y": null,
            "padding": null,
            "right": null,
            "top": null,
            "visibility": null,
            "width": null
          }
        },
        "bd8bb0f2c77344b6be6231813c0ef030": {
          "model_module": "@jupyter-widgets/controls",
          "model_name": "DescriptionStyleModel",
          "model_module_version": "1.5.0",
          "state": {
            "_model_module": "@jupyter-widgets/controls",
            "_model_module_version": "1.5.0",
            "_model_name": "DescriptionStyleModel",
            "_view_count": null,
            "_view_module": "@jupyter-widgets/base",
            "_view_module_version": "1.2.0",
            "_view_name": "StyleView",
            "description_width": ""
          }
        }
      }
    },
    "accelerator": "GPU"
  },
  "cells": [
    {
      "cell_type": "markdown",
      "source": [
        "### Generation"
      ],
      "metadata": {
        "id": "cmraKZipcp9x"
      }
    },
    {
      "cell_type": "code",
      "source": [
        "! pip install diffusers"
      ],
      "metadata": {
        "colab": {
          "base_uri": "https://localhost:8080/"
        },
        "id": "cNlAcg0qyRo3",
        "outputId": "5766b08a-35dc-4c5d-c70e-92a2606d8265"
      },
      "execution_count": 1,
      "outputs": [
        {
          "output_type": "stream",
          "name": "stdout",
          "text": [
            "Collecting diffusers\n",
            "  Downloading diffusers-0.24.0-py3-none-any.whl (1.8 MB)\n",
            "\u001b[2K     \u001b[90m━━━━━━━━━━━━━━━━━━━━━━━━━━━━━━━━━━━━━━━━\u001b[0m \u001b[32m1.8/1.8 MB\u001b[0m \u001b[31m9.7 MB/s\u001b[0m eta \u001b[36m0:00:00\u001b[0m\n",
            "\u001b[?25hRequirement already satisfied: Pillow in /usr/local/lib/python3.10/dist-packages (from diffusers) (9.4.0)\n",
            "Requirement already satisfied: filelock in /usr/local/lib/python3.10/dist-packages (from diffusers) (3.13.1)\n",
            "Requirement already satisfied: huggingface-hub>=0.19.4 in /usr/local/lib/python3.10/dist-packages (from diffusers) (0.19.4)\n",
            "Requirement already satisfied: importlib-metadata in /usr/local/lib/python3.10/dist-packages (from diffusers) (7.0.0)\n",
            "Requirement already satisfied: numpy in /usr/local/lib/python3.10/dist-packages (from diffusers) (1.23.5)\n",
            "Requirement already satisfied: regex!=2019.12.17 in /usr/local/lib/python3.10/dist-packages (from diffusers) (2023.6.3)\n",
            "Requirement already satisfied: requests in /usr/local/lib/python3.10/dist-packages (from diffusers) (2.31.0)\n",
            "Requirement already satisfied: safetensors>=0.3.1 in /usr/local/lib/python3.10/dist-packages (from diffusers) (0.4.1)\n",
            "Requirement already satisfied: fsspec>=2023.5.0 in /usr/local/lib/python3.10/dist-packages (from huggingface-hub>=0.19.4->diffusers) (2023.6.0)\n",
            "Requirement already satisfied: tqdm>=4.42.1 in /usr/local/lib/python3.10/dist-packages (from huggingface-hub>=0.19.4->diffusers) (4.66.1)\n",
            "Requirement already satisfied: pyyaml>=5.1 in /usr/local/lib/python3.10/dist-packages (from huggingface-hub>=0.19.4->diffusers) (6.0.1)\n",
            "Requirement already satisfied: typing-extensions>=3.7.4.3 in /usr/local/lib/python3.10/dist-packages (from huggingface-hub>=0.19.4->diffusers) (4.5.0)\n",
            "Requirement already satisfied: packaging>=20.9 in /usr/local/lib/python3.10/dist-packages (from huggingface-hub>=0.19.4->diffusers) (23.2)\n",
            "Requirement already satisfied: zipp>=0.5 in /usr/local/lib/python3.10/dist-packages (from importlib-metadata->diffusers) (3.17.0)\n",
            "Requirement already satisfied: charset-normalizer<4,>=2 in /usr/local/lib/python3.10/dist-packages (from requests->diffusers) (3.3.2)\n",
            "Requirement already satisfied: idna<4,>=2.5 in /usr/local/lib/python3.10/dist-packages (from requests->diffusers) (3.6)\n",
            "Requirement already satisfied: urllib3<3,>=1.21.1 in /usr/local/lib/python3.10/dist-packages (from requests->diffusers) (2.0.7)\n",
            "Requirement already satisfied: certifi>=2017.4.17 in /usr/local/lib/python3.10/dist-packages (from requests->diffusers) (2023.11.17)\n",
            "Installing collected packages: diffusers\n",
            "Successfully installed diffusers-0.24.0\n"
          ]
        }
      ]
    },
    {
      "cell_type": "code",
      "source": [
        "import jax\n",
        "import jax.numpy as jnp\n",
        "import numpy as np\n",
        "import torch\n",
        "\n",
        "def get_integrator_basis_fn(sde):\n",
        "    def _worker(t_start, t_end, num_item):\n",
        "        dt = (t_end - t_start) / num_item\n",
        "\n",
        "        t_inter = jnp.linspace(t_start, t_end, num_item, endpoint=False)\n",
        "        psi_coef = sde.psi(t_inter, t_end)\n",
        "        integrand = sde.eps_integrand(t_inter)\n",
        "\n",
        "        return psi_coef * integrand, t_inter, dt\n",
        "    return _worker\n",
        "\n",
        "\n",
        "def single_poly_coef(t_val, ts_poly, coef_idx=0):\n",
        "    num = t_val - ts_poly\n",
        "    denum = ts_poly[coef_idx] - ts_poly\n",
        "    num = num.at[coef_idx].set(1.0)\n",
        "    denum = denum.at[coef_idx].set(1.0)\n",
        "    return jnp.prod(num) / jnp.prod(denum)\n",
        "\n",
        "vec_poly_coef = jax.vmap(single_poly_coef, (0, None, None), 0)\n",
        "\n",
        "\n",
        "def get_one_coef_per_step_fn(sde):\n",
        "    _eps_coef_worker_fn = get_integrator_basis_fn(sde)\n",
        "    def _worker(t_start, t_end, ts_poly, coef_idx=0,num_item=10000):\n",
        "        integrand, t_inter, dt = _eps_coef_worker_fn(t_start, t_end, num_item)\n",
        "        poly_coef = vec_poly_coef(t_inter, ts_poly, coef_idx)\n",
        "        return jnp.sum(integrand * poly_coef) * dt\n",
        "    return _worker\n",
        "\n",
        "def get_coef_per_step_fn(sde, highest_order, order):\n",
        "    eps_coef_fn = get_one_coef_per_step_fn(sde)\n",
        "    def _worker(t_start, t_end, ts_poly, num_item=10000):\n",
        "        rtn = jnp.zeros((highest_order+1, ), dtype=float)\n",
        "        ts_poly = ts_poly[:order+1]\n",
        "        coef = jax.vmap(eps_coef_fn, (None, None, None, 0, None))(t_start, t_end, ts_poly, jnp.flip(jnp.arange(order+1)), num_item)\n",
        "        rtn = rtn.at[:order+1].set(coef)\n",
        "        return rtn\n",
        "    return _worker\n",
        "\n",
        "def get_ab_eps_coef_order0(sde, highest_order, timesteps):\n",
        "    _worker = get_coef_per_step_fn(sde, highest_order, 0)\n",
        "    col_idx = jnp.arange(len(timesteps)-1)[:,None]\n",
        "    idx = col_idx + jnp.arange(1)[None, :]\n",
        "    vec_ts_poly = timesteps[idx]\n",
        "    return jax.vmap(\n",
        "        _worker,\n",
        "        (0, 0, 0), 0\n",
        "    )(timesteps[:-1], timesteps[1:], vec_ts_poly)\n",
        "\n",
        "def get_ab_eps_coef(sde, highest_order, timesteps, order):\n",
        "    if order == 0:\n",
        "        return get_ab_eps_coef_order0(sde, highest_order, timesteps)\n",
        "\n",
        "    prev_coef = get_ab_eps_coef(sde, highest_order, timesteps[:order+1], order=order-1)\n",
        "\n",
        "    cur_coef_worker = get_coef_per_step_fn(sde, highest_order, order)\n",
        "\n",
        "    col_idx = jnp.arange(len(timesteps)-order-1)[:,None]\n",
        "    idx = col_idx + jnp.arange(order+1)[None, :]\n",
        "    vec_ts_poly = timesteps[idx]\n",
        "\n",
        "\n",
        "    cur_coef = jax.vmap(\n",
        "        cur_coef_worker,\n",
        "        (0, 0, 0), 0\n",
        "    )(timesteps[order:-1], timesteps[order+1:], vec_ts_poly) #[3, 4, (0,1,2,3)]\n",
        "\n",
        "    return jnp.concatenate(\n",
        "        [\n",
        "            prev_coef,\n",
        "            cur_coef\n",
        "        ],\n",
        "        axis=0\n",
        "    )\n",
        "\n",
        "def ab_step(x, ei_coef, new_eps, eps_pred):\n",
        "    x_coef, eps_coef = ei_coef[0], ei_coef[1:]\n",
        "    full_eps_pred = [new_eps, *eps_pred]\n",
        "    rtn = x_coef * x\n",
        "    for cur_coef, cur_eps in zip(eps_coef, full_eps_pred):\n",
        "        rtn += cur_coef * cur_eps\n",
        "    return rtn, full_eps_pred[:-1]\n",
        "\n",
        "\n",
        "def get_rev_ts(exp_sde, num_step, ts_order):\n",
        "    t0, t1 = 0, exp_sde.T\n",
        "    t0 = t0 + 1e-1\n",
        "    rev_ts = jnp.power(\n",
        "        jnp.linspace(\n",
        "            jnp.power(t1, 1.0 / ts_order),\n",
        "            jnp.power(t0, 1.0 / ts_order),\n",
        "            num_step + 1\n",
        "        ),\n",
        "        ts_order\n",
        "    )\n",
        "    return rev_ts\n",
        "\n",
        "def jax2th(array, th_array=None):\n",
        "    if th_array is None:\n",
        "        return torch.from_numpy(\n",
        "            np.asarray(array).copy()\n",
        "        )\n",
        "    else:\n",
        "        return torch.from_numpy(\n",
        "            np.asarray(array).copy()\n",
        "        ).to(th_array.device)\n",
        "\n",
        "def fori_loop(lower, upper, body_fun, init_val):\n",
        "    val = init_val\n",
        "    for i in range(lower, upper):\n",
        "        val = body_fun(i, val)\n",
        "    return val\n",
        "\n",
        "def sample(sde, eps_fn, ts_order, num_step, ab_order, noise):\n",
        "    rev_ts = get_rev_ts(sde, num_step, ts_order)\n",
        "\n",
        "    x_coef = sde.psi(rev_ts[:-1], rev_ts[1:])\n",
        "    eps_coef = get_ab_eps_coef(sde, ab_order, rev_ts, ab_order)\n",
        "    ab_coef = jnp.concatenate([x_coef[:, None], eps_coef], axis=1)\n",
        "    rev_ts, ab_coef = jax2th(rev_ts), jax2th(ab_coef)\n",
        "    rev_ts, ab_coef = rev_ts.to(noise.device), ab_coef.to(noise.device)\n",
        "\n",
        "    def ab_body_fn(i, val):\n",
        "        x, eps_pred = val\n",
        "        s_t= rev_ts[i]\n",
        "\n",
        "        new_eps = eps_fn(x, s_t)\n",
        "        new_x, new_eps_pred = ab_step(x, ab_coef[i], new_eps, eps_pred)\n",
        "        return new_x, new_eps_pred\n",
        "\n",
        "\n",
        "    eps_pred = [noise,] * ab_order\n",
        "    img, _ = fori_loop(0, num_step, ab_body_fn, (noise, eps_pred))\n",
        "    return img"
      ],
      "metadata": {
        "id": "dnVwUN2AyE0G"
      },
      "execution_count": 2,
      "outputs": []
    },
    {
      "cell_type": "code",
      "source": [
        "import torch\n",
        "import jax\n",
        "import jax.numpy as jnp\n",
        "from torch import nn\n",
        "\n",
        "criterion = nn.MSELoss()\n",
        "\n",
        "class VPSDE():\n",
        "    def __init__(self, beta_min=0.1, beta_max=20):\n",
        "        \"\"\"Construct a Variance Preserving SDE.\n",
        "\n",
        "        Args:\n",
        "        beta_min: value of beta(0)\n",
        "        beta_max: value of beta(1)\n",
        "        N: number of discretization steps\n",
        "        \"\"\"\n",
        "        super().__init__()\n",
        "        self.beta_0 = beta_min\n",
        "        self.beta_1 = beta_max\n",
        "        self.t2alpha_fn = lambda t: jnp.exp(2 * (-0.25 * t ** 2 * (self.beta_1 - self.beta_0) - 0.5 * t * self.beta_0))\n",
        "        log_alpha_fn = lambda t: jnp.log(self.t2alpha_fn(t))\n",
        "        grad_log_alpha_fn = jax.grad(log_alpha_fn)\n",
        "        self.d_log_alpha_dtau_fn = jax.vmap(grad_log_alpha_fn)\n",
        "\n",
        "    @property\n",
        "    def T(self):\n",
        "        return 1\n",
        "\n",
        "    def marginal_prob(self, x, t):\n",
        "        log_mean_coeff = -0.25 * t ** 2 * (self.beta_1 - self.beta_0) - 0.5 * t * self.beta_0\n",
        "        mean = torch.exp(log_mean_coeff[:, None, None, None]) * x\n",
        "        std = torch.sqrt(1. - torch.exp(2. * log_mean_coeff))\n",
        "        return mean, std\n",
        "\n",
        "    def psi(self, t_start, t_end):\n",
        "        return jnp.sqrt(self.t2alpha_fn(t_end) / self.t2alpha_fn(t_start))\n",
        "\n",
        "    def eps_integrand(self, vec_t):\n",
        "        d_log_alpha_dtau = self.d_log_alpha_dtau_fn(vec_t)\n",
        "        integrand = -0.5 * d_log_alpha_dtau / jnp.sqrt(1 - self.t2alpha_fn(vec_t))\n",
        "        return integrand\n",
        "\n",
        "def loss_fn(sde, model, x, eps=1e-5):\n",
        "    random_t = torch.rand(x.shape[0], device=x.device) * (sde.T - eps) + eps\n",
        "    z = torch.randn_like(x)\n",
        "    mean, std = sde.marginal_prob(x, random_t)\n",
        "    perturbed_x = mean + z * std[:, None, None, None]\n",
        "    pred_noise = model(perturbed_x, random_t)[\"sample\"]\n",
        "    loss = criterion(pred_noise, z)\n",
        "    return loss\n",
        "\n"
      ],
      "metadata": {
        "id": "UwUB1yfhyI29"
      },
      "execution_count": 3,
      "outputs": []
    },
    {
      "cell_type": "code",
      "source": [
        "from diffusers import UNet2DModel\n",
        "import typing as tp\n",
        "\n",
        "def get_model(repo_id: tp.Optional[str] = None, **kwargs) -> UNet2DModel:\n",
        "    model = UNet2DModel.from_pretrained(repo_id, use_safetensors=True) if repo_id else UNet2DModel(\n",
        "            in_channels=3,\n",
        "            out_channels=3,\n",
        "            block_out_channels=(64, 64, 128),\n",
        "            down_block_types=(\n",
        "                \"DownBlock2D\",\n",
        "                \"AttnDownBlock2D\",\n",
        "                \"AttnDownBlock2D\",\n",
        "            ),\n",
        "            up_block_types=(\n",
        "                \"AttnUpBlock2D\",\n",
        "                \"AttnUpBlock2D\",\n",
        "                \"UpBlock2D\",\n",
        "            ),\n",
        "            **kwargs\n",
        "        )\n",
        "\n",
        "    return model"
      ],
      "metadata": {
        "id": "OXguDyy-yMpK",
        "colab": {
          "base_uri": "https://localhost:8080/",
          "height": 87,
          "referenced_widgets": [
            "1acbb22d95c842c59d0b19b7883582b0",
            "bb8f8512df5f4bbb8277a7de63c75eba",
            "35896e7e046543e398c288d1a59d565b",
            "e8caee142e7b403f831bb7cd9067e8ab",
            "134c46fd7d8d461891f900c267f5520d",
            "551811d78d5d492eba3dce9c3ee3fa1d",
            "2f06e2c927864b91bc4b332c39f9d476",
            "4babb63ad9444215aa4a59eb0dfe6689",
            "d63bbe65f9b6466d9c87f03887daf5ef",
            "e920dd3470b54ddb9805836a3d3adc52",
            "cc6e6cf409b84f8a96af061bd3d7d9a9"
          ]
        },
        "outputId": "d63bb8ca-f3fa-4717-ebe8-c3aa0da45cae"
      },
      "execution_count": 4,
      "outputs": [
        {
          "output_type": "stream",
          "name": "stderr",
          "text": [
            "The cache for model files in Transformers v4.22.0 has been updated. Migrating your old cache. This is a one-time only operation. You can interrupt this and resume the migration later on by calling `transformers.utils.move_cache()`.\n"
          ]
        },
        {
          "output_type": "display_data",
          "data": {
            "text/plain": [
              "0it [00:00, ?it/s]"
            ],
            "application/vnd.jupyter.widget-view+json": {
              "version_major": 2,
              "version_minor": 0,
              "model_id": "1acbb22d95c842c59d0b19b7883582b0"
            }
          },
          "metadata": {}
        }
      ]
    },
    {
      "cell_type": "code",
      "source": [
        "import torch\n",
        "\n",
        "vpsde = VPSDE()\n",
        "ts_order = 2.0\n",
        "num_step=1000\n",
        "ab_order=3\n",
        "B, C, H, W = 1000, 3, 28, 28\n",
        "TIME_EMB_TYPE = \"fourier\"\n",
        "DEVICE = \"cuda\"\n",
        "\n",
        "model = get_model(sample_size = H, time_embedding_type = TIME_EMB_TYPE)\n",
        "model.load_state_dict(torch.load(\"drive/MyDrive/Bayes/ckpt_score_2.pth\",map_location=torch.device(DEVICE))[\"model_state_dict\"])\n",
        "model.to(DEVICE)\n",
        "model.eval()\n",
        "\n",
        "def eps_fn(x_t, scalar_t):\n",
        "    vec_t = (torch.ones(x_t.shape[0])).float().to(x_t) * scalar_t\n",
        "    with torch.no_grad():\n",
        "        score = model(x_t, vec_t)[\"sample\"]\n",
        "    std = vpsde.marginal_prob(torch.zeros_like(score), vec_t)[1]\n",
        "    eps = - score/ std[:, None, None, None]\n",
        "    return eps\n",
        "\n",
        "# Example how to sample image\n",
        "\n",
        "images = sample(\n",
        "    sde = vpsde,\n",
        "    eps_fn = eps_fn,\n",
        "    ts_order=ts_order,\n",
        "    num_step=num_step,\n",
        "    ab_order=ab_order,\n",
        "    noise=torch.randn(B, C, H, W).to(DEVICE)\n",
        ")\n",
        "\n"
      ],
      "metadata": {
        "id": "GEBPKQFZxzIt"
      },
      "execution_count": 141,
      "outputs": []
    },
    {
      "cell_type": "code",
      "source": [
        "import matplotlib.pyplot as plt\n",
        "import numpy as np\n",
        "import torchvision\n",
        "\n",
        "def show(imgs):\n",
        "    if not isinstance(imgs, list):\n",
        "        imgs = [imgs]\n",
        "    fig, axs = plt.subplots(ncols=len(imgs), squeeze=False)\n",
        "    for i, img in enumerate(imgs):\n",
        "        img = img.detach()\n",
        "        img = torchvision.transforms.functional.to_pil_image(img)\n",
        "        axs[0, i].imshow(np.asarray(img))\n",
        "        axs[0, i].set(xticklabels=[], yticklabels=[], xticks=[], yticks=[])\n",
        "\n",
        "def normalize(imgs):\n",
        "    return (torch.clip(imgs, -1, 1) + 1)/2"
      ],
      "metadata": {
        "id": "rqCqUJEfy1jd"
      },
      "execution_count": 142,
      "outputs": []
    },
    {
      "cell_type": "code",
      "source": [
        "from torchvision.utils import make_grid\n",
        "\n",
        "show(make_grid(normalize(images)))"
      ],
      "metadata": {
        "id": "kIv7t2KcydxY",
        "colab": {
          "base_uri": "https://localhost:8080/",
          "height": 406
        },
        "outputId": "e2823c9c-0638-4039-bd23-d3788d121a66"
      },
      "execution_count": 143,
      "outputs": [
        {
          "output_type": "display_data",
          "data": {
            "text/plain": [
              "<Figure size 640x480 with 1 Axes>"
            ],
            "image/png": "[encoded data removed]"
          },
          "metadata": {}
        }
      ]
    },
    {
      "cell_type": "code",
      "source": [
        "from torchvision.utils import save_image\n",
        "from tqdm.notebook import tqdm\n",
        "from pathlib import Path\n",
        "\n",
        "def save_imgs(images, path):\n",
        "    for ind, image in tqdm(enumerate(images)):\n",
        "        save_image(image, path / (str(ind) + \".png\"))"
      ],
      "metadata": {
        "id": "IwEhzS_KQ_EH"
      },
      "execution_count": 144,
      "outputs": []
    },
    {
      "cell_type": "code",
      "source": [
        "path_to_dir = Path(f\"./drive/MyDrive/Bayes/EI({int(ab_order)})_{int(num_step)}\")\n",
        "path_to_dir.mkdir()\n",
        "save_imgs(normalize(images), path_to_dir)"
      ],
      "metadata": {
        "colab": {
          "base_uri": "https://localhost:8080/",
          "height": 49,
          "referenced_widgets": [
            "67408d6b1eef46699da4bf1566a1e08c",
            "de63265568d44d42a181da683fcb0664",
            "cd00a4a1559644b699ddb8624c8d88bd",
            "09a9b7eeb5ce4862bc59e8a373873ed6",
            "66888ab1467f4c28b844912d26c392ad",
            "5f26a9014b4e48ca8d089b3e517ae393",
            "8718a07b585e44b09b0df5f162a55f62",
            "925d304b069b439b85c7af4c3f46f20e",
            "31da19aec33f47e6b81853c8ae252c0e",
            "93f89d34cdb249c1b9a400b14ac423e7",
            "45961d0b8a3d4c6e851e221f5eb5d62b"
          ]
        },
        "id": "D3UzMcvJSI5r",
        "outputId": "0d87074d-af5c-4e96-c0ae-1712cb17c225"
      },
      "execution_count": 145,
      "outputs": [
        {
          "output_type": "display_data",
          "data": {
            "text/plain": [
              "0it [00:00, ?it/s]"
            ],
            "application/vnd.jupyter.widget-view+json": {
              "version_major": 2,
              "version_minor": 0,
              "model_id": "67408d6b1eef46699da4bf1566a1e08c"
            }
          },
          "metadata": {}
        }
      ]
    },
    {
      "cell_type": "code",
      "source": [
        "images = sample(\n",
        "    sde = vpsde,\n",
        "    eps_fn = eps_fn,\n",
        "    ts_order=ts_order,\n",
        "    num_step=num_step,\n",
        "    ab_order=0,\n",
        "    noise=torch.randn(B, C, H, W).to(DEVICE)\n",
        ")"
      ],
      "metadata": {
        "id": "TwNtg1DlUQzE"
      },
      "execution_count": 146,
      "outputs": []
    },
    {
      "cell_type": "code",
      "source": [
        "show(make_grid(normalize(images)))"
      ],
      "metadata": {
        "colab": {
          "base_uri": "https://localhost:8080/",
          "height": 406
        },
        "id": "uN-fzoDsUUNl",
        "outputId": "3d5005f6-c3d4-449a-e300-819e1ce44f51"
      },
      "execution_count": 147,
      "outputs": [
        {
          "output_type": "display_data",
          "data": {
            "text/plain": [
              "<Figure size 640x480 with 1 Axes>"
            ],
            "image/png": "[encoded data removed]"
          },
          "metadata": {}
        }
      ]
    },
    {
      "cell_type": "code",
      "source": [
        "path_to_dir = Path(f\"./drive/MyDrive/Bayes/DDIM_{int(num_step)}\")\n",
        "path_to_dir.mkdir()\n",
        "save_imgs(normalize(images), path_to_dir)"
      ],
      "metadata": {
        "id": "RTy_Fy87q9Fo",
        "colab": {
          "base_uri": "https://localhost:8080/",
          "height": 49,
          "referenced_widgets": [
            "eb77c32d0970412c89fc9b5599674229",
            "b14b90e4503a4daeb742ecf46336f8ae",
            "a67dff0cf2f648648a53a05a1483409d",
            "d4f2d46ddb1b45efa5bcc5e959f53cbb",
            "b175ac198c244ea79563353cb1299288",
            "9e043b1a68d84c23b12d8c8d33cbd43e",
            "d1588a70819f44849444acb22a59575e",
            "eab4dcf93819464fa91f0ccb43b45d14",
            "cce37a49d17d49639fd7ece100387ff3",
            "5510e37089734ce8af9cd9bec122dd8a",
            "bd8bb0f2c77344b6be6231813c0ef030"
          ]
        },
        "outputId": "f927cda8-75d2-47f1-c2f1-edd1f2badc98"
      },
      "execution_count": 148,
      "outputs": [
        {
          "output_type": "display_data",
          "data": {
            "text/plain": [
              "0it [00:00, ?it/s]"
            ],
            "application/vnd.jupyter.widget-view+json": {
              "version_major": 2,
              "version_minor": 0,
              "model_id": "eb77c32d0970412c89fc9b5599674229"
            }
          },
          "metadata": {}
        }
      ]
    },
    {
      "cell_type": "markdown",
      "source": [
        "### FID"
      ],
      "metadata": {
        "id": "Nn-smwhDUjqg"
      }
    },
    {
      "cell_type": "code",
      "source": [
        "! pip install pytorch-fid"
      ],
      "metadata": {
        "colab": {
          "base_uri": "https://localhost:8080/"
        },
        "id": "pvdbCPlwcodE",
        "outputId": "3a9e7d61-836c-4cf1-ecee-d1f01f17a42a"
      },
      "execution_count": 108,
      "outputs": [
        {
          "output_type": "stream",
          "name": "stdout",
          "text": [
            "Collecting pytorch-fid\n",
            "  Downloading pytorch_fid-0.3.0-py3-none-any.whl (15 kB)\n",
            "Requirement already satisfied: numpy in /usr/local/lib/python3.10/dist-packages (from pytorch-fid) (1.23.5)\n",
            "Requirement already satisfied: pillow in /usr/local/lib/python3.10/dist-packages (from pytorch-fid) (9.4.0)\n",
            "Requirement already satisfied: scipy in /usr/local/lib/python3.10/dist-packages (from pytorch-fid) (1.11.4)\n",
            "Requirement already satisfied: torch>=1.0.1 in /usr/local/lib/python3.10/dist-packages (from pytorch-fid) (2.1.0+cu121)\n",
            "Requirement already satisfied: torchvision>=0.2.2 in /usr/local/lib/python3.10/dist-packages (from pytorch-fid) (0.16.0+cu121)\n",
            "Requirement already satisfied: filelock in /usr/local/lib/python3.10/dist-packages (from torch>=1.0.1->pytorch-fid) (3.13.1)\n",
            "Requirement already satisfied: typing-extensions in /usr/local/lib/python3.10/dist-packages (from torch>=1.0.1->pytorch-fid) (4.5.0)\n",
            "Requirement already satisfied: sympy in /usr/local/lib/python3.10/dist-packages (from torch>=1.0.1->pytorch-fid) (1.12)\n",
            "Requirement already satisfied: networkx in /usr/local/lib/python3.10/dist-packages (from torch>=1.0.1->pytorch-fid) (3.2.1)\n",
            "Requirement already satisfied: jinja2 in /usr/local/lib/python3.10/dist-packages (from torch>=1.0.1->pytorch-fid) (3.1.2)\n",
            "Requirement already satisfied: fsspec in /usr/local/lib/python3.10/dist-packages (from torch>=1.0.1->pytorch-fid) (2023.6.0)\n",
            "Requirement already satisfied: triton==2.1.0 in /usr/local/lib/python3.10/dist-packages (from torch>=1.0.1->pytorch-fid) (2.1.0)\n",
            "Requirement already satisfied: requests in /usr/local/lib/python3.10/dist-packages (from torchvision>=0.2.2->pytorch-fid) (2.31.0)\n",
            "Requirement already satisfied: MarkupSafe>=2.0 in /usr/local/lib/python3.10/dist-packages (from jinja2->torch>=1.0.1->pytorch-fid) (2.1.3)\n",
            "Requirement already satisfied: charset-normalizer<4,>=2 in /usr/local/lib/python3.10/dist-packages (from requests->torchvision>=0.2.2->pytorch-fid) (3.3.2)\n",
            "Requirement already satisfied: idna<4,>=2.5 in /usr/local/lib/python3.10/dist-packages (from requests->torchvision>=0.2.2->pytorch-fid) (3.6)\n",
            "Requirement already satisfied: urllib3<3,>=1.21.1 in /usr/local/lib/python3.10/dist-packages (from requests->torchvision>=0.2.2->pytorch-fid) (2.0.7)\n",
            "Requirement already satisfied: certifi>=2017.4.17 in /usr/local/lib/python3.10/dist-packages (from requests->torchvision>=0.2.2->pytorch-fid) (2023.11.17)\n",
            "Requirement already satisfied: mpmath>=0.19 in /usr/local/lib/python3.10/dist-packages (from sympy->torch>=1.0.1->pytorch-fid) (1.3.0)\n",
            "Installing collected packages: pytorch-fid\n",
            "Successfully installed pytorch-fid-0.3.0\n"
          ]
        }
      ]
    },
    {
      "cell_type": "code",
      "source": [
        "! pip install scipy==1.11.1"
      ],
      "metadata": {
        "colab": {
          "base_uri": "https://localhost:8080/"
        },
        "id": "POoPzrVTd5R3",
        "outputId": "2320e9c6-530e-40f5-cb8b-c01c9b1765fb"
      },
      "execution_count": 111,
      "outputs": [
        {
          "output_type": "stream",
          "name": "stdout",
          "text": [
            "Collecting scipy==1.11.1\n",
            "  Downloading scipy-1.11.1-cp310-cp310-manylinux_2_17_x86_64.manylinux2014_x86_64.whl (36.3 MB)\n",
            "\u001b[2K     \u001b[90m━━━━━━━━━━━━━━━━━━━━━━━━━━━━━━━━━━━━━━━━\u001b[0m \u001b[32m36.3/36.3 MB\u001b[0m \u001b[31m16.7 MB/s\u001b[0m eta \u001b[36m0:00:00\u001b[0m\n",
            "\u001b[?25hRequirement already satisfied: numpy<1.28.0,>=1.21.6 in /usr/local/lib/python3.10/dist-packages (from scipy==1.11.1) (1.23.5)\n",
            "Installing collected packages: scipy\n",
            "  Attempting uninstall: scipy\n",
            "    Found existing installation: scipy 1.11.4\n",
            "    Uninstalling scipy-1.11.4:\n",
            "      Successfully uninstalled scipy-1.11.4\n",
            "\u001b[31mERROR: pip's dependency resolver does not currently take into account all the packages that are installed. This behaviour is the source of the following dependency conflicts.\n",
            "lida 0.0.10 requires fastapi, which is not installed.\n",
            "lida 0.0.10 requires kaleido, which is not installed.\n",
            "lida 0.0.10 requires python-multipart, which is not installed.\n",
            "lida 0.0.10 requires uvicorn, which is not installed.\u001b[0m\u001b[31m\n",
            "\u001b[0mSuccessfully installed scipy-1.11.1\n"
          ]
        }
      ]
    },
    {
      "cell_type": "code",
      "source": [
        "! python -m pytorch_fid ./drive/MyDrive/Bayes/colored_mnist_train ./drive/MyDrive/Bayes/EI\\(3\\)_1000 --device cuda"
      ],
      "metadata": {
        "colab": {
          "base_uri": "https://localhost:8080/"
        },
        "id": "Grzx-_cEcv_q",
        "outputId": "0487e38b-0de9-4da3-a055-09e865558f0b"
      },
      "execution_count": 150,
      "outputs": [
        {
          "output_type": "stream",
          "name": "stdout",
          "text": [
            "100% 22/22 [00:04<00:00,  4.75it/s]\n",
            "100% 20/20 [00:04<00:00,  4.41it/s]\n",
            "FID:  19.77535768809949\n"
          ]
        }
      ]
    },
    {
      "cell_type": "code",
      "source": [
        "ei_dict ={\n",
        "    1000:19.77535768809949,\n",
        "    100:29.486502306522198,\n",
        "    80:33.40547486083264,\n",
        "    50:38.96245444381802,\n",
        "    30:38.852168933082595,\n",
        "    20:80.84373240807318,\n",
        "    10:118.97699411526611,\n",
        "    7:68.20150260696002,\n",
        "    5:114.92699020875753,\n",
        "    4:166.17547801487413, # 2 -- 176.6697891159079\n",
        "    3:204.83888049586358, # 2 -- 228.98555939597503\n",
        "    2:184.17271380626477 # 1 -- 188.66317976549425\n",
        "}\n",
        "\n",
        "ddim_dict ={\n",
        "    1000:17.96478044731134,\n",
        "    100:19.549185199863388,\n",
        "    80:18.982991754251145,\n",
        "    50:17.577593625479636,\n",
        "    30:18.07812605159279,\n",
        "    20:18.87175873086386,\n",
        "    10:47.32729999897043,\n",
        "    7:95.22048173047628,\n",
        "    5:149.39568290730233,\n",
        "    4:171.99395783283063,\n",
        "    3:153.30869201391963,\n",
        "    2:166.7198723590123\n",
        "}"
      ],
      "metadata": {
        "id": "u9XvhZnLdFv8"
      },
      "execution_count": 138,
      "outputs": []
    },
    {
      "cell_type": "code",
      "source": [
        "import matplotlib.pylab as plt\n",
        "import seaborn as sns\n",
        "\n",
        "sns.set()\n",
        "\n",
        "plt.plot(list(ei_dict.keys()), list(ei_dict.values()), label = \"ExpIntegrator\")\n",
        "plt.plot(list(ddim_dict.keys()), list(ddim_dict.values()), label = \"DDIM\")\n",
        "\n",
        "plt.legend()\n",
        "plt.xlabel(\"NFE\")\n",
        "plt.ylabel(\"FID\");"
      ],
      "metadata": {
        "colab": {
          "base_uri": "https://localhost:8080/",
          "height": 458
        },
        "id": "k1XX3dXLhCAS",
        "outputId": "1cf1e343-16c0-457a-801f-6a6c67ce0898"
      },
      "execution_count": 140,
      "outputs": [
        {
          "output_type": "display_data",
          "data": {
            "text/plain": [
              "<Figure size 640x480 with 1 Axes>"
            ],
            "image/png": "[encoded data removed]"
          },
          "metadata": {}
        }
      ]
    }
  ]
}